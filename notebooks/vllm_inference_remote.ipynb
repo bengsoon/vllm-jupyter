{
 "cells": [
  {
   "cell_type": "code",
   "execution_count": 12,
   "id": "d3cffb07",
   "metadata": {},
   "outputs": [],
   "source": [
    "from openai import OpenAI\n",
    "import os\n",
    "from dotenv import load_dotenv\n",
    "from pprint import pprint as pp\n",
    "\n",
    "# Load environment variables from .env file\n",
    "load_dotenv()\n",
    "VLLM_API_KEY = os.getenv(\"VLLM_API_KEY\", None)"
   ]
  },
  {
   "cell_type": "code",
   "execution_count": null,
   "id": "e0e2ae0a",
   "metadata": {},
   "outputs": [],
   "source": [
    "client = OpenAI(\n",
    "    base_url=\"http://localhost:8000/v1\",\n",
    "    api_key=VLLM_API_KEY,\n",
    ")\n",
    "\n",
    "completion = client.chat.completions.create(\n",
    "  model=\"chatbot\",\n",
    "  messages=[\n",
    "    {\"role\": \"user\", \"content\": \"Hello!\"}\n",
    "  ],\n",
    "  max_tokens=100\n",
    ")\n",
    "\n",
    "print(\"Response:\")\n",
    "print(completion.choices[0].message.content)"
   ]
  },
  {
   "cell_type": "code",
   "execution_count": null,
   "id": "d8810a5c",
   "metadata": {},
   "outputs": [
    {
     "data": {
      "text/plain": [
       "\"Hello! How can I assist you today? Whether you need help with a specific topic, want to chat about something interesting, or have any questions, feel free to share what you'd like to discuss or know more about.\""
      ]
     },
     "execution_count": 27,
     "metadata": {},
     "output_type": "execute_result"
    }
   ],
   "source": [
    "# Example with different parameters\n",
    "completion = client.chat.completions.create(\n",
    "  model=\"chatbot\",\n",
    "  messages=[\n",
    "    {\"role\": \"user\", \"content\": \"Tell me a short joke\"}\n",
    "  ],\n",
    "  max_tokens=150,\n",
    "  temperature=0.7,\n",
    "  stream=False\n",
    ")\n",
    "\n",
    "print(\"Joke Response:\")\n",
    "print(completion.choices[0].message.content)\n",
    "print(f\"Tokens used: {completion.usage.total_tokens}\")"
   ]
  },
  {
   "cell_type": "markdown",
   "id": "9bab37ba",
   "metadata": {},
   "source": [
    "# vLLM Remote Inference Examples\n",
    "\n",
    "This notebook demonstrates basic usage of the vLLM server through the OpenAI-compatible API.\n",
    "\n",
    "## Setup\n",
    "- Ensure vLLM server is running: `docker compose up -d vllm-server`\n",
    "- Configure your API key in the `.env` file\n",
    "- The server should be accessible at `http://localhost:8000`\n",
    "\n",
    "## Examples\n",
    "Below are simple examples showing different ways to interact with the vLLM API."
   ]
  },
  {
   "cell_type": "code",
   "execution_count": null,
   "id": "43b20663",
   "metadata": {},
   "outputs": [],
   "source": [
    "# Health check - verify server is running\n",
    "import requests\n",
    "\n",
    "try:\n",
    "    health_response = requests.get(\"http://localhost:8000/health\")\n",
    "    if health_response.status_code == 200:\n",
    "        print(\"✅ vLLM server is healthy and ready!\")\n",
    "    else:\n",
    "        print(f\"⚠️ Server responded with status: {health_response.status_code}\")\n",
    "except requests.exceptions.ConnectionError:\n",
    "    print(\"❌ Cannot connect to vLLM server. Make sure it's running on localhost:8000\")"
   ]
  },
  {
   "cell_type": "code",
   "execution_count": null,
   "id": "7cd50f14",
   "metadata": {},
   "outputs": [],
   "source": [
    "# Get model information\n",
    "try:\n",
    "    models_response = client.models.list()\n",
    "    print(\"Available models:\")\n",
    "    for model in models_response.data:\n",
    "        print(f\"- {model.id}\")\n",
    "        print(f\"  Created: {model.created}\")\n",
    "        print(f\"  Owned by: {model.owned_by}\")\n",
    "        print()\n",
    "except Exception as e:\n",
    "    print(f\"Error getting model info: {e}\")"
   ]
  }
 ],
 "metadata": {
  "kernelspec": {
   "display_name": "axolotl",
   "language": "python",
   "name": "python3"
  },
  "language_info": {
   "codemirror_mode": {
    "name": "ipython",
    "version": 3
   },
   "file_extension": ".py",
   "mimetype": "text/x-python",
   "name": "python",
   "nbconvert_exporter": "python",
   "pygments_lexer": "ipython3",
   "version": "3.10.15"
  }
 },
 "nbformat": 4,
 "nbformat_minor": 5
}
